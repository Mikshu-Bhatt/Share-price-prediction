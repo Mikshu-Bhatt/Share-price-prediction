{
 "cells": [
  {
   "cell_type": "code",
   "execution_count": 1,
   "id": "graphic-spouse",
   "metadata": {},
   "outputs": [],
   "source": [
    "import pandas as pd\n",
    "import requests\n",
    "from bs4 import BeautifulSoup as bs\n",
    "import numpy as np\n",
    "import datetime as dt\n",
    "import pandas_datareader as web\n",
    "import os\n",
    "import pickle\n",
    "import sklearn\n",
    "from sklearn import svm, neighbors, preprocessing\n",
    "from sklearn.ensemble import VotingClassifier, RandomForestClassifier\n",
    "from sklearn.linear_model import LinearRegression\n",
    "import math\n",
    "import matplotlib.pyplot as plt\n",
    "from matplotlib import style"
   ]
  },
  {
   "cell_type": "code",
   "execution_count": null,
   "id": "western-tissue",
   "metadata": {},
   "outputs": [],
   "source": [
    "### getting the tickers list of BSE companies from wikipedia through scrapping  \n",
    "\n",
    "source_code = requests.get('https://en.wikipedia.org/wiki/List_of_BSE_SENSEX_companies')\n",
    "web_soup = bs(source_code.text,'lxml')\n",
    "stcks = web_soup.select('table#constituents tbody tr')[1:]\n",
    "stcks\n",
    "ss1 = [stck.select('td')[2:3] for stck in stcks if stck.find('td') != None] \n",
    "tick_text = []\n",
    "tickers = []\n",
    "for i in range(len(ss1)):\n",
    "    tick_text.append(ss1[i][0].string.strip())\n",
    "tick_text \n",
    "ss2 = [stck.select('td')[1] for stck in stcks if stck.find('td') != None]\n",
    "for i in range(len(ss2)):\n",
    "    tickers.append(ss2[i].string.strip())\n",
    "tickers "
   ]
  },
  {
   "cell_type": "code",
   "execution_count": 9,
   "id": "european-november",
   "metadata": {},
   "outputs": [],
   "source": [
    "startdate = '2018-01-01'\n",
    "end = dt.date(2021,3,4)\n",
    "\n",
    "### function that will fetch financial of a company data from yahoo\n",
    "\n",
    "def myportfolio(stocks):\n",
    "    data = web.DataReader(stocks, data_source = 'yahoo', start = startdate, end = end)\n",
    "    return data\n",
    "\n",
    "### storing data as csv file in memory\n",
    "\n",
    "def file_save(tick_text):\n",
    "    if not os.path.exists('M:/BSE_df'):\n",
    "        os.makedirs('M:/BSE_df')\n",
    "    for stoc in tick_text:\n",
    "        if not os.path.exists(f'M:/BSE_df/{stoc}.csv'):\n",
    "            with open(f'M:/BSE_df/{stoc}.csv','wb') as file:\n",
    "                writer = pickle.dump(myportfolio(stoc),file)\n",
    "        else:\n",
    "            print('it is there')\n",
    "file_save(tick_text)   \n"
   ]
  },
  {
   "cell_type": "code",
   "execution_count": 102,
   "id": "fabulous-daisy",
   "metadata": {},
   "outputs": [
    {
     "data": {
      "text/html": [
       "<div>\n",
       "<style scoped>\n",
       "    .dataframe tbody tr th:only-of-type {\n",
       "        vertical-align: middle;\n",
       "    }\n",
       "\n",
       "    .dataframe tbody tr th {\n",
       "        vertical-align: top;\n",
       "    }\n",
       "\n",
       "    .dataframe thead th {\n",
       "        text-align: right;\n",
       "    }\n",
       "</style>\n",
       "<table border=\"1\" class=\"dataframe\">\n",
       "  <thead>\n",
       "    <tr style=\"text-align: right;\">\n",
       "      <th></th>\n",
       "      <th>High</th>\n",
       "      <th>Low</th>\n",
       "      <th>Open</th>\n",
       "      <th>Close</th>\n",
       "      <th>Volume</th>\n",
       "      <th>Adj Close</th>\n",
       "    </tr>\n",
       "    <tr>\n",
       "      <th>Date</th>\n",
       "      <th></th>\n",
       "      <th></th>\n",
       "      <th></th>\n",
       "      <th></th>\n",
       "      <th></th>\n",
       "      <th></th>\n",
       "    </tr>\n",
       "  </thead>\n",
       "  <tbody>\n",
       "    <tr>\n",
       "      <th>2018-01-01</th>\n",
       "      <td>1165.550049</td>\n",
       "      <td>1140.000000</td>\n",
       "      <td>1160.0</td>\n",
       "      <td>1146.500000</td>\n",
       "      <td>21776.0</td>\n",
       "      <td>1122.931519</td>\n",
       "    </tr>\n",
       "    <tr>\n",
       "      <th>2018-01-02</th>\n",
       "      <td>1149.400024</td>\n",
       "      <td>1134.949951</td>\n",
       "      <td>1145.0</td>\n",
       "      <td>1142.849976</td>\n",
       "      <td>22009.0</td>\n",
       "      <td>1119.356445</td>\n",
       "    </tr>\n",
       "    <tr>\n",
       "      <th>2018-01-03</th>\n",
       "      <td>1150.000000</td>\n",
       "      <td>1136.000000</td>\n",
       "      <td>1150.0</td>\n",
       "      <td>1141.099976</td>\n",
       "      <td>636697.0</td>\n",
       "      <td>1117.642578</td>\n",
       "    </tr>\n",
       "    <tr>\n",
       "      <th>2018-01-04</th>\n",
       "      <td>1178.699951</td>\n",
       "      <td>1148.199951</td>\n",
       "      <td>1149.5</td>\n",
       "      <td>1172.050049</td>\n",
       "      <td>75615.0</td>\n",
       "      <td>1147.956421</td>\n",
       "    </tr>\n",
       "    <tr>\n",
       "      <th>2018-01-05</th>\n",
       "      <td>1191.000000</td>\n",
       "      <td>1168.550049</td>\n",
       "      <td>1172.0</td>\n",
       "      <td>1183.750000</td>\n",
       "      <td>58612.0</td>\n",
       "      <td>1159.415771</td>\n",
       "    </tr>\n",
       "  </tbody>\n",
       "</table>\n",
       "</div>"
      ],
      "text/plain": [
       "                   High          Low    Open        Close    Volume  \\\n",
       "Date                                                                  \n",
       "2018-01-01  1165.550049  1140.000000  1160.0  1146.500000   21776.0   \n",
       "2018-01-02  1149.400024  1134.949951  1145.0  1142.849976   22009.0   \n",
       "2018-01-03  1150.000000  1136.000000  1150.0  1141.099976  636697.0   \n",
       "2018-01-04  1178.699951  1148.199951  1149.5  1172.050049   75615.0   \n",
       "2018-01-05  1191.000000  1168.550049  1172.0  1183.750000   58612.0   \n",
       "\n",
       "              Adj Close  \n",
       "Date                     \n",
       "2018-01-01  1122.931519  \n",
       "2018-01-02  1119.356445  \n",
       "2018-01-03  1117.642578  \n",
       "2018-01-04  1147.956421  \n",
       "2018-01-05  1159.415771  "
      ]
     },
     "execution_count": 102,
     "metadata": {},
     "output_type": "execute_result"
    }
   ],
   "source": [
    "### using asian paints company's data for analysis\n",
    "\n",
    "with open('M:/BSE_df/ASIANPAINT.BO.csv','rb') as file:\n",
    "    df_AP = pickle.load(file)\n",
    "df_AP.head() "
   ]
  },
  {
   "cell_type": "markdown",
   "id": "common-money",
   "metadata": {},
   "source": [
    "### Figuring out the best method to predict the stock prices"
   ]
  },
  {
   "cell_type": "code",
   "execution_count": 66,
   "id": "generic-consultancy",
   "metadata": {},
   "outputs": [],
   "source": [
    "### Training and testing methods on a part of dataset \n",
    "\n",
    "df_AP['pred'] = df_AP['Adj Close'].shift(-1)\n",
    "X = df_AP.drop(['pred','Volume'],1).values\n",
    "X = X[:722]\n",
    "X_lately = df_AP.drop(['pred','Volume'],1).values[722:]\n",
    "y = df_AP['pred'].values\n",
    "y = y[:722]"
   ]
  },
  {
   "cell_type": "code",
   "execution_count": 73,
   "id": "intensive-candy",
   "metadata": {},
   "outputs": [
    {
     "name": "stdout",
     "output_type": "stream",
     "text": [
      "coefficient of determination :  0.005977011494252875\n",
      "\n",
      " predicted values for 1 day into future for 60 days :  [2428.76666667 2427.9        2418.76666667 2423.33333333 2418.76666667\n",
      " 2418.76666667 2418.76666667 2408.13333333 2418.76666667 2418.76666667\n",
      " 2408.13333333 2408.13333333 2413.45       2395.85       2387.55\n",
      " 2411.46666667 2421.03333333 2415.33333333 2421.03333333 2427.15\n",
      " 2427.15       2432.46666667 2432.46666667 2427.15       2392.91666667\n",
      " 2403.35       2417.56666667 2413.45       2408.13333333 2402.33333333\n",
      " 2401.68333333 2400.71666667 2428.2        2438.5        2370.9\n",
      " 2379.68333333 2370.9        2435.08333333 2438.5        2367.45\n",
      " 2367.45       2367.45       2426.73333333 2418.76666667 2418.76666667\n",
      " 2428.2        2422.88333333 2412.55       2367.45       2394.56666667\n",
      " 2393.86666667 2367.45       2367.45       2367.45       2367.45\n",
      " 2177.03333333 2366.2        2367.45       2367.45       2367.45      ]\n"
     ]
    }
   ],
   "source": [
    "### using voting classifier to vote out the best method among the given\n",
    "\n",
    "predi = []\n",
    "accuracy = []\n",
    "for i in range(60):\n",
    "    \n",
    "    X_train, X_test, y_train, y_test = sklearn.model_selection.train_test_split(X,y,test_size=0.2)\n",
    "    clf = VotingClassifier([('svc',svm.SVC()),('rf',RandomForestClassifier()),('KNN',neighbors.KNeighborsClassifier())])\n",
    "    clf.fit(X_train.astype(int), y_train.astype(int))\n",
    "    accuracy.append(clf.score(X_test.astype(int),y_test.astype(int)))\n",
    "    predi.append(clf.predict(X_lately))\n",
    "    \n",
    "print('coefficient of determination : ',np.array(accuracy).sum()/60)\n",
    "a = 0\n",
    "for i in range(len(predi)):\n",
    "    a = a + predi[i]\n",
    "b = a/len(predi)\n",
    "print('\\n predicted values for 1 day into future for 60 days : ',b)"
   ]
  },
  {
   "cell_type": "code",
   "execution_count": 93,
   "id": "printable-highway",
   "metadata": {},
   "outputs": [
    {
     "name": "stdout",
     "output_type": "stream",
     "text": [
      "coefficient of determination :  0.9901484799431971\n",
      "\n",
      " predicted values for 1 day into future for 60 days :  [2517.17794287 2529.78152877 2518.92480052 2548.79804263 2525.94326267\n",
      " 2579.81264064 2576.01106122 2603.79952517 2556.39237437 2596.68100796\n",
      " 2640.80417469 2645.41003802 2678.50340792 2695.86058404 2728.57574501\n",
      " 2760.93951979 2773.35649271 2755.38482558 2787.84471787 2801.47045592\n",
      " 2793.61543337 2837.05508301 2847.91896037 2741.3992574  2703.89431653\n",
      " 2667.1648144  2593.57414485 2588.55640842 2643.35216548 2693.53709952\n",
      " 2723.28567727 2606.30898811 2520.84185835 2442.55492202 2440.59354292\n",
      " 2413.64783878 2440.41404226 2465.28850586 2456.27510172 2407.16660249\n",
      " 2381.29403787 2417.51229058 2503.6610549  2510.15092827 2507.86891079\n",
      " 2486.78291528 2462.84104853 2449.92461657 2394.35746172 2464.74455588\n",
      " 2421.69068124 2393.37353588 2369.59897338 2353.94691796 2372.40635475\n",
      " 2283.64029268 2361.10462714 2390.66438691 2401.87379689 2415.61541614]\n"
     ]
    }
   ],
   "source": [
    "### using linearregression \n",
    "\n",
    "predi = []\n",
    "accuracy = []\n",
    "for i in range(60):\n",
    "    \n",
    "    X_train, X_test, y_train, y_test = sklearn.model_selection.train_test_split(X,y,test_size=0.2)\n",
    "    clf = LinearRegression(normalize=True,fit_intercept=True,n_jobs=-1)\n",
    "    clf.fit(X_train.astype(int), y_train.astype(int))\n",
    "    accuracy.append(clf.score(X_test.astype(int),y_test.astype(int)))\n",
    "    predi.append(clf.predict(X_lately))\n",
    "    \n",
    "print('coefficient of determination : ',np.array(accuracy).sum()/60)\n",
    "a = 0\n",
    "for i in range(len(predi)):\n",
    "    a = a + predi[i]\n",
    "b = a/len(predi)\n",
    "print('\\n predicted values for 1 day into future for 60 days : ',b)"
   ]
  },
  {
   "cell_type": "code",
   "execution_count": 57,
   "id": "furnished-exclusive",
   "metadata": {},
   "outputs": [
    {
     "data": {
      "text/plain": [
       "<matplotlib.legend.Legend at 0x24417fc0b48>"
      ]
     },
     "execution_count": 57,
     "metadata": {},
     "output_type": "execute_result"
    },
    {
     "data": {
      "image/png": "[encoded data removed]",
      "text/plain": [
       "<Figure size 864x504 with 1 Axes>"
      ]
     },
     "metadata": {},
     "output_type": "display_data"
    }
   ],
   "source": [
    "### visualizing the accuracy of linearregression\n",
    "\n",
    "style.use('dark_background')\n",
    "plt.figure(figsize=(12,7))\n",
    "plt.plot(df_AP['Adj Close'][723:].index, b[:-1], color='green', marker='o', linestyle='dashed',label='Predicted Price')\n",
    "plt.plot(df_AP['Adj Close'][723:].index, df_AP['Adj Close'][723:], color='red', label='Actual Price')\n",
    "plt.legend()\n",
    "plt.title('asian paints')\n",
    "plt.xlabel('Dates')\n",
    "plt.ylabel('Prices')\n",
    "plt.legend()"
   ]
  },
  {
   "cell_type": "code",
   "execution_count": 64,
   "id": "distinguished-consequence",
   "metadata": {},
   "outputs": [],
   "source": [
    "### predicting stock price 10 days into future with linearregression\n",
    "\n",
    "dfs_new = df_AP\n",
    "dfs_new['pred'] = dfs_new['Adj Close'].shift(-10)\n",
    "# df_ADBE.dropna(inplace=True)\n",
    "X = dfs_new.drop(['pred','Volume'],1).values\n",
    "X_lately = X[-10:]\n",
    "X = X[:-10]\n",
    "y = dfs_new['pred'].values\n",
    "y = y[:-10]"
   ]
  },
  {
   "cell_type": "code",
   "execution_count": 65,
   "id": "confidential-wichita",
   "metadata": {},
   "outputs": [
    {
     "name": "stdout",
     "output_type": "stream",
     "text": [
      "0.9485045928456046 [2390.04808662 2383.88177916 2349.36997039 2300.97165765 2373.44722352\n",
      " 2262.12960021 2370.64439201 2395.88865082 2401.35609263 2409.10728589]\n"
     ]
    }
   ],
   "source": [
    "predi = []\n",
    "accuracy = []\n",
    "for i in range(50):\n",
    "    \n",
    "    X_train, X_test, y_train, y_test = sklearn.model_selection.train_test_split(X,y,test_size=0.2)\n",
    "    clf = LinearRegression(normalize=True,fit_intercept=True)\n",
    "    clf.fit(X_train.astype(int), y_train.astype(int))\n",
    "    accuracy.append(clf.score(X_test.astype(int),y_test.astype(int)))\n",
    "    predi.append(clf.predict(X_lately))\n",
    "\n",
    "aa = 0\n",
    "for i in range(len(predi)):\n",
    "    aa = aa + predi[i]\n",
    "b = aa/len(predi)\n",
    "print(np.array(accuracy).sum()/len(predi),b)\n"
   ]
  },
  {
   "cell_type": "code",
   "execution_count": 104,
   "id": "complicated-emission",
   "metadata": {},
   "outputs": [],
   "source": [
    "df_sen = myportfolio('^BSESN')['Adj Close']"
   ]
  },
  {
   "cell_type": "code",
   "execution_count": 106,
   "id": "turned-duration",
   "metadata": {},
   "outputs": [],
   "source": [
    "df_AP.rename(columns={'Adj Close':'ASP_Adj_Close'},inplace=True)\n",
    "df_AP = pd.concat([df_AP,df_sen],1)\n"
   ]
  },
  {
   "cell_type": "code",
   "execution_count": 107,
   "id": "private-charlotte",
   "metadata": {},
   "outputs": [],
   "source": [
    "df_AP.rename(columns={'Adj Close':'SEN_Adj_Close'},inplace=True)"
   ]
  },
  {
   "cell_type": "code",
   "execution_count": 108,
   "id": "sitting-malaysia",
   "metadata": {},
   "outputs": [],
   "source": [
    "df_AP['ASP_pct_change'] = df_AP['ASP_Adj_Close'].pct_change(1)\n"
   ]
  },
  {
   "cell_type": "code",
   "execution_count": 109,
   "id": "pointed-parallel",
   "metadata": {},
   "outputs": [],
   "source": [
    "df_AP['SEN_pct_change'] = df_AP['SEN_Adj_Close'].pct_change(1)"
   ]
  },
  {
   "cell_type": "code",
   "execution_count": 110,
   "id": "wrapped-luther",
   "metadata": {},
   "outputs": [
    {
     "data": {
      "text/html": [
       "<div>\n",
       "<style scoped>\n",
       "    .dataframe tbody tr th:only-of-type {\n",
       "        vertical-align: middle;\n",
       "    }\n",
       "\n",
       "    .dataframe tbody tr th {\n",
       "        vertical-align: top;\n",
       "    }\n",
       "\n",
       "    .dataframe thead th {\n",
       "        text-align: right;\n",
       "    }\n",
       "</style>\n",
       "<table border=\"1\" class=\"dataframe\">\n",
       "  <thead>\n",
       "    <tr style=\"text-align: right;\">\n",
       "      <th></th>\n",
       "      <th>High</th>\n",
       "      <th>Low</th>\n",
       "      <th>Open</th>\n",
       "      <th>Close</th>\n",
       "      <th>Volume</th>\n",
       "      <th>ASP_Adj_Close</th>\n",
       "      <th>SEN_Adj_Close</th>\n",
       "      <th>ASP_pct_change</th>\n",
       "      <th>SEN_pct_change</th>\n",
       "    </tr>\n",
       "    <tr>\n",
       "      <th>Date</th>\n",
       "      <th></th>\n",
       "      <th></th>\n",
       "      <th></th>\n",
       "      <th></th>\n",
       "      <th></th>\n",
       "      <th></th>\n",
       "      <th></th>\n",
       "      <th></th>\n",
       "      <th></th>\n",
       "    </tr>\n",
       "  </thead>\n",
       "  <tbody>\n",
       "    <tr>\n",
       "      <th>2018-01-01</th>\n",
       "      <td>1165.550049</td>\n",
       "      <td>1140.000000</td>\n",
       "      <td>1160.0</td>\n",
       "      <td>1146.500000</td>\n",
       "      <td>21776.0</td>\n",
       "      <td>1122.931519</td>\n",
       "      <td>33812.750000</td>\n",
       "      <td>NaN</td>\n",
       "      <td>NaN</td>\n",
       "    </tr>\n",
       "    <tr>\n",
       "      <th>2018-01-02</th>\n",
       "      <td>1149.400024</td>\n",
       "      <td>1134.949951</td>\n",
       "      <td>1145.0</td>\n",
       "      <td>1142.849976</td>\n",
       "      <td>22009.0</td>\n",
       "      <td>1119.356445</td>\n",
       "      <td>33812.261719</td>\n",
       "      <td>-0.003184</td>\n",
       "      <td>-0.000014</td>\n",
       "    </tr>\n",
       "    <tr>\n",
       "      <th>2018-01-03</th>\n",
       "      <td>1150.000000</td>\n",
       "      <td>1136.000000</td>\n",
       "      <td>1150.0</td>\n",
       "      <td>1141.099976</td>\n",
       "      <td>636697.0</td>\n",
       "      <td>1117.642578</td>\n",
       "      <td>33793.378906</td>\n",
       "      <td>-0.001531</td>\n",
       "      <td>-0.000558</td>\n",
       "    </tr>\n",
       "    <tr>\n",
       "      <th>2018-01-04</th>\n",
       "      <td>1178.699951</td>\n",
       "      <td>1148.199951</td>\n",
       "      <td>1149.5</td>\n",
       "      <td>1172.050049</td>\n",
       "      <td>75615.0</td>\n",
       "      <td>1147.956421</td>\n",
       "      <td>33969.640625</td>\n",
       "      <td>0.027123</td>\n",
       "      <td>0.005216</td>\n",
       "    </tr>\n",
       "    <tr>\n",
       "      <th>2018-01-05</th>\n",
       "      <td>1191.000000</td>\n",
       "      <td>1168.550049</td>\n",
       "      <td>1172.0</td>\n",
       "      <td>1183.750000</td>\n",
       "      <td>58612.0</td>\n",
       "      <td>1159.415771</td>\n",
       "      <td>34153.851562</td>\n",
       "      <td>0.009982</td>\n",
       "      <td>0.005423</td>\n",
       "    </tr>\n",
       "  </tbody>\n",
       "</table>\n",
       "</div>"
      ],
      "text/plain": [
       "                   High          Low    Open        Close    Volume  \\\n",
       "Date                                                                  \n",
       "2018-01-01  1165.550049  1140.000000  1160.0  1146.500000   21776.0   \n",
       "2018-01-02  1149.400024  1134.949951  1145.0  1142.849976   22009.0   \n",
       "2018-01-03  1150.000000  1136.000000  1150.0  1141.099976  636697.0   \n",
       "2018-01-04  1178.699951  1148.199951  1149.5  1172.050049   75615.0   \n",
       "2018-01-05  1191.000000  1168.550049  1172.0  1183.750000   58612.0   \n",
       "\n",
       "            ASP_Adj_Close  SEN_Adj_Close  ASP_pct_change  SEN_pct_change  \n",
       "Date                                                                      \n",
       "2018-01-01    1122.931519   33812.750000             NaN             NaN  \n",
       "2018-01-02    1119.356445   33812.261719       -0.003184       -0.000014  \n",
       "2018-01-03    1117.642578   33793.378906       -0.001531       -0.000558  \n",
       "2018-01-04    1147.956421   33969.640625        0.027123        0.005216  \n",
       "2018-01-05    1159.415771   34153.851562        0.009982        0.005423  "
      ]
     },
     "execution_count": 110,
     "metadata": {},
     "output_type": "execute_result"
    }
   ],
   "source": [
    "df_AP.head()"
   ]
  },
  {
   "cell_type": "code",
   "execution_count": 111,
   "id": "primary-affiliate",
   "metadata": {},
   "outputs": [
    {
     "data": {
      "text/plain": [
       "<matplotlib.legend.Legend at 0x24418a1ef88>"
      ]
     },
     "execution_count": 111,
     "metadata": {},
     "output_type": "execute_result"
    },
    {
     "data": {
      "image/png": "[encoded data removed]",
      "text/plain": [
       "<Figure size 864x504 with 1 Axes>"
      ]
     },
     "metadata": {},
     "output_type": "display_data"
    }
   ],
   "source": [
    "### visualizing the performance of asian paints with respect to market\n",
    "\n",
    "style.use('dark_background')\n",
    "plt.figure(figsize=(12,7))\n",
    "plt.plot(df_AP.index, (df_AP['SEN_pct_change'] + 1).cumprod(), color='green', label='SEN_return')\n",
    "plt.plot(df_AP.index, (df_AP['ASP_pct_change'] + 1).cumprod(), color='red', label='ASP_return')\n",
    "plt.legend()\n",
    "plt.title('asian paints performance against index')\n",
    "plt.xlabel('Dates')\n",
    "plt.ylabel('return')\n",
    "plt.legend()"
   ]
  },
  {
   "cell_type": "code",
   "execution_count": null,
   "id": "nasty-concert",
   "metadata": {},
   "outputs": [],
   "source": []
  }
 ],
 "metadata": {
  "kernelspec": {
   "display_name": "Python 3",
   "language": "python",
   "name": "python3"
  },
  "language_info": {
   "codemirror_mode": {
    "name": "ipython",
    "version": 3
   },
   "file_extension": ".py",
   "mimetype": "text/x-python",
   "name": "python",
   "nbconvert_exporter": "python",
   "pygments_lexer": "ipython3",
   "version": "3.7.9"
  }
 },
 "nbformat": 4,
 "nbformat_minor": 5
}
